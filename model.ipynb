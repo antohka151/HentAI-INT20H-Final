{
 "cells": [
  {
   "cell_type": "code",
   "execution_count": 1,
   "metadata": {
    "collapsed": false,
    "jupyter": {
     "outputs_hidden": false
    },
    "pycharm": {
     "name": "#%%\n"
    }
   },
   "outputs": [],
   "source": [
    "import os\n",
    "\n",
    "import numpy as np\n",
    "import pandas as pd"
   ]
  },
  {
   "cell_type": "code",
   "execution_count": 2,
   "metadata": {
    "collapsed": false,
    "jupyter": {
     "outputs_hidden": false
    },
    "pycharm": {
     "name": "#%%\n"
    }
   },
   "outputs": [],
   "source": [
    "def import_data_kaggle(path=os.path.join('data'), files=('orders.csv', 'nodes.csv')):\n",
    "    return (pd.read_csv(os.path.join(path, file)) for file in files)\n",
    "\n",
    "raw_orders, raw_nodes = import_data_kaggle()\n",
    "\n",
    "def convert_to_datetime(df):\n",
    "    df['running_time'] = pd.to_datetime(df['running_time'])\n",
    "    if 'completed_time' in df.columns:\n",
    "        df['completed_time'] = pd.to_datetime(df['completed_time'])\n",
    "    return df\n",
    "\n",
    "raw_orders = convert_to_datetime(raw_orders)"
   ]
  },
  {
   "cell_type": "code",
   "execution_count": 3,
   "metadata": {
    "collapsed": false,
    "jupyter": {
     "outputs_hidden": false
    },
    "pycharm": {
     "name": "#%%\n"
    }
   },
   "outputs": [],
   "source": [
    "class FeatureExtractor:\n",
    "    def __init__(self):\n",
    "        pass\n",
    "\n",
    "    def time_to_circle(self, value, max_value):\n",
    "        return np.cos(value / max_value * 2 * np.pi), np.sin(value / max_value * 2 * np.pi)\n",
    "\n",
    "    def datetime_to_xy(self, df):\n",
    "        tmp = df.running_time\n",
    "        tmp = tmp.dt.hour*3600 + tmp.dt.minute*60 + tmp.dt.second\n",
    "\n",
    "        xs, ys = self.time_to_circle(tmp, 86400)\n",
    "        return xs, ys\n",
    "\n",
    "    def transform(self, orders, nodes):\n",
    "        # Getting feature \"nodes_delta_time\"\n",
    "        nodes.speed.fillna(31.277917, inplace=True)\n",
    "        nodes[\"time\"] = (nodes[\"distance\"]*3.6)/nodes['speed']\n",
    "        eta_per_order = nodes[['Id', 'time']].groupby('Id').sum('time').reset_index()\n",
    "        orders['nodes_delta_time'] = orders.merge(eta_per_order).time\n",
    "\n",
    "        # Getting feature \"set_difference\" - it represents number of 'unique nodes', that are used as a start, but not as a finish;\n",
    "        # and that are used as a finish, but not as a start.\n",
    "        set_differences = nodes.groupby('Id').apply(lambda ord: np.concatenate([np.setdiff1d(ord.node_start.unique(), ord.node_finish.unique()),\n",
    "                                                                                np.setdiff1d(ord.node_finish.unique(), ord.node_start.unique())]))\n",
    "        set_differences = set_differences.apply(lambda x: len(x)).rename('set_diff').reset_index()\n",
    "        orders = orders.merge(set_differences, on ='Id')\n",
    "\n",
    "        # Getting the \"distance_difference\" feature. Difference between nodes cumulative distance and route distance.\n",
    "        orders['nodes_distance_km'] = orders.merge(nodes.groupby('Id').sum()['distance'] / 1000, on = 'Id')['distance']\n",
    "        orders['distance_difference'] = orders['route_distance_km'] - orders['nodes_distance_km']\n",
    "\n",
    "        # Transforming \"running time\" into 2 dimensions.\n",
    "        orders['xs'], orders['ys'] = self.datetime_to_xy(orders)\n",
    "        return orders.set_index('Id')\n"
   ]
  },
  {
   "cell_type": "code",
   "execution_count": 4,
   "metadata": {
    "collapsed": false,
    "jupyter": {
     "outputs_hidden": false
    },
    "pycharm": {
     "name": "#%%\n"
    }
   },
   "outputs": [],
   "source": [
    "orders, nodes = raw_orders.copy(), raw_nodes.copy()\n",
    "\n",
    "data = FeatureExtractor().transform(orders, nodes)"
   ]
  },
  {
   "cell_type": "code",
   "execution_count": 5,
   "metadata": {
    "collapsed": false,
    "jupyter": {
     "outputs_hidden": false
    },
    "pycharm": {
     "name": "#%%\n"
    }
   },
   "outputs": [],
   "source": [
    "def get_useful(df, to_get=['nodes_delta_time', 'xs', 'set_diff', 'distance_difference', 'delta_time']):\n",
    "    return df[to_get]\n",
    "\n",
    "data = get_useful(data)"
   ]
  },
  {
   "cell_type": "code",
   "execution_count": 6,
   "metadata": {
    "collapsed": false,
    "jupyter": {
     "outputs_hidden": false
    },
    "pycharm": {
     "name": "#%%\n"
    }
   },
   "outputs": [],
   "source": [
    "from sklearn.preprocessing import StandardScaler, PolynomialFeatures\n",
    "\n",
    "X, y = data.drop(['delta_time'], axis='columns'), data['delta_time']\n",
    "\n",
    "scaler = StandardScaler()\n",
    "X = scaler.fit_transform(X)\n",
    "\n",
    "pf = PolynomialFeatures(degree=2)\n",
    "X = pf.fit_transform(X)"
   ]
  },
  {
   "cell_type": "code",
   "execution_count": 7,
   "metadata": {
    "collapsed": false,
    "jupyter": {
     "outputs_hidden": false
    },
    "pycharm": {
     "name": "#%%\n"
    }
   },
   "outputs": [],
   "source": [
    "import tensorflow as tf\n",
    "import tensorflow_addons as tfa\n",
    "\n",
    "from tensorflow import keras\n",
    "\n",
    "def train_model(X_train, y_train):\n",
    "    model = keras.models.Sequential([\n",
    "        keras.layers.Input(shape=[X_train.shape[1]]),\n",
    "        keras.layers.Dense(128, activation=\"selu\", kernel_initializer=\"lecun_normal\"),\n",
    "        keras.layers.Dense(64, activation=\"selu\", kernel_initializer=\"lecun_normal\"),\n",
    "        keras.layers.Dense(32, activation=\"selu\", kernel_initializer=\"lecun_normal\"),\n",
    "        keras.layers.Dense(16, activation=\"selu\", kernel_initializer=\"lecun_normal\"),\n",
    "        keras.layers.Dense(1)\n",
    "    ])\n",
    "\n",
    "    model.compile(\n",
    "        loss=keras.losses.MeanSquaredError(),\n",
    "        optimizer=\"nadam\",\n",
    "        metrics=[\n",
    "            keras.metrics.RootMeanSquaredError(),\n",
    "            tfa.metrics.RSquare()\n",
    "        ]\n",
    "    )\n",
    "    with tf.device(\"/cpu:0\"):\n",
    "        history = model.fit(\n",
    "            X_train,\n",
    "            y_train,\n",
    "            epochs=40,\n",
    "            verbose=1,\n",
    "            batch_size=64\n",
    "        )\n",
    "\n",
    "    return model"
   ]
  },
  {
   "cell_type": "code",
   "execution_count": 8,
   "metadata": {
    "collapsed": false,
    "jupyter": {
     "outputs_hidden": false
    },
    "pycharm": {
     "name": "#%%\n"
    }
   },
   "outputs": [
    {
     "name": "stdout",
     "output_type": "stream",
     "text": [
      "Epoch 1/40\n",
      "94/94 [==============================] - 2s 8ms/step - loss: 256155.4531 - root_mean_squared_error: 506.1180 - r_square: -4.7296\n",
      "Epoch 2/40\n",
      "94/94 [==============================] - 1s 8ms/step - loss: 35656.4492 - root_mean_squared_error: 188.8291 - r_square: 0.2024\n",
      "Epoch 3/40\n",
      "94/94 [==============================] - 1s 8ms/step - loss: 17724.9316 - root_mean_squared_error: 133.1350 - r_square: 0.6035\n",
      "Epoch 4/40\n",
      "94/94 [==============================] - 1s 8ms/step - loss: 14207.6934 - root_mean_squared_error: 119.1960 - r_square: 0.6822\n",
      "Epoch 5/40\n",
      "94/94 [==============================] - 1s 8ms/step - loss: 13303.8115 - root_mean_squared_error: 115.3421 - r_square: 0.7024\n",
      "Epoch 6/40\n",
      "94/94 [==============================] - 1s 8ms/step - loss: 13036.3916 - root_mean_squared_error: 114.1770 - r_square: 0.7084\n",
      "Epoch 7/40\n",
      "94/94 [==============================] - 1s 8ms/step - loss: 12897.9932 - root_mean_squared_error: 113.5693 - r_square: 0.7115\n",
      "Epoch 8/40\n",
      "94/94 [==============================] - 1s 8ms/step - loss: 12824.7588 - root_mean_squared_error: 113.2465 - r_square: 0.7131\n",
      "Epoch 9/40\n",
      "94/94 [==============================] - 1s 8ms/step - loss: 12777.4082 - root_mean_squared_error: 113.0372 - r_square: 0.7142\n",
      "Epoch 10/40\n",
      "94/94 [==============================] - 1s 8ms/step - loss: 12742.7031 - root_mean_squared_error: 112.8836 - r_square: 0.7150\n",
      "Epoch 11/40\n",
      "94/94 [==============================] - 1s 9ms/step - loss: 12724.4697 - root_mean_squared_error: 112.8028 - r_square: 0.7154\n",
      "Epoch 12/40\n",
      "94/94 [==============================] - 1s 10ms/step - loss: 12658.2363 - root_mean_squared_error: 112.5088 - r_square: 0.7169\n",
      "Epoch 13/40\n",
      "94/94 [==============================] - 1s 11ms/step - loss: 12640.1787 - root_mean_squared_error: 112.4286 - r_square: 0.7173\n",
      "Epoch 14/40\n",
      "94/94 [==============================] - 1s 11ms/step - loss: 12620.8457 - root_mean_squared_error: 112.3425 - r_square: 0.7177\n",
      "Epoch 15/40\n",
      "94/94 [==============================] - 1s 11ms/step - loss: 12548.2178 - root_mean_squared_error: 112.0188 - r_square: 0.7193\n",
      "Epoch 16/40\n",
      "94/94 [==============================] - 1s 11ms/step - loss: 12569.4746 - root_mean_squared_error: 112.1137 - r_square: 0.7188\n",
      "Epoch 17/40\n",
      "94/94 [==============================] - 1s 11ms/step - loss: 12565.2266 - root_mean_squared_error: 112.0947 - r_square: 0.7189\n",
      "Epoch 18/40\n",
      "94/94 [==============================] - 1s 11ms/step - loss: 12537.0537 - root_mean_squared_error: 111.9690 - r_square: 0.7196\n",
      "Epoch 19/40\n",
      "94/94 [==============================] - 1s 11ms/step - loss: 12494.6064 - root_mean_squared_error: 111.7793 - r_square: 0.7205\n",
      "Epoch 20/40\n",
      "94/94 [==============================] - 1s 11ms/step - loss: 12464.9404 - root_mean_squared_error: 111.6465 - r_square: 0.7212\n",
      "Epoch 21/40\n",
      "94/94 [==============================] - 1s 12ms/step - loss: 12505.9756 - root_mean_squared_error: 111.8301 - r_square: 0.7203\n",
      "Epoch 22/40\n",
      "94/94 [==============================] - 1s 12ms/step - loss: 12459.8877 - root_mean_squared_error: 111.6239 - r_square: 0.7213\n",
      "Epoch 23/40\n",
      "94/94 [==============================] - 1s 11ms/step - loss: 12414.8877 - root_mean_squared_error: 111.4221 - r_square: 0.7223\n",
      "Epoch 24/40\n",
      "94/94 [==============================] - 1s 12ms/step - loss: 12477.9502 - root_mean_squared_error: 111.7047 - r_square: 0.7209\n",
      "Epoch 25/40\n",
      "94/94 [==============================] - 1s 12ms/step - loss: 12419.9307 - root_mean_squared_error: 111.4447 - r_square: 0.7222\n",
      "Epoch 26/40\n",
      "94/94 [==============================] - 1s 12ms/step - loss: 12380.4893 - root_mean_squared_error: 111.2676 - r_square: 0.7231\n",
      "Epoch 27/40\n",
      "94/94 [==============================] - 1s 12ms/step - loss: 12417.3057 - root_mean_squared_error: 111.4330 - r_square: 0.7223\n",
      "Epoch 28/40\n",
      "94/94 [==============================] - 1s 12ms/step - loss: 12367.3398 - root_mean_squared_error: 111.2085 - r_square: 0.7234\n",
      "Epoch 29/40\n",
      "94/94 [==============================] - 1s 12ms/step - loss: 12352.6162 - root_mean_squared_error: 111.1423 - r_square: 0.7237\n",
      "Epoch 30/40\n",
      "94/94 [==============================] - 1s 12ms/step - loss: 12405.1582 - root_mean_squared_error: 111.3784 - r_square: 0.7225\n",
      "Epoch 31/40\n",
      "94/94 [==============================] - 1s 12ms/step - loss: 12330.9844 - root_mean_squared_error: 111.0450 - r_square: 0.7242\n",
      "Epoch 32/40\n",
      "94/94 [==============================] - 1s 12ms/step - loss: 12350.1377 - root_mean_squared_error: 111.1312 - r_square: 0.7238\n",
      "Epoch 33/40\n",
      "94/94 [==============================] - 1s 12ms/step - loss: 12338.5791 - root_mean_squared_error: 111.0792 - r_square: 0.7240\n",
      "Epoch 34/40\n",
      "94/94 [==============================] - 1s 12ms/step - loss: 12411.4297 - root_mean_squared_error: 111.4066 - r_square: 0.7224\n",
      "Epoch 35/40\n",
      "94/94 [==============================] - 1s 12ms/step - loss: 12339.6123 - root_mean_squared_error: 111.0838 - r_square: 0.7240\n",
      "Epoch 36/40\n",
      "94/94 [==============================] - 1s 12ms/step - loss: 12320.7812 - root_mean_squared_error: 110.9990 - r_square: 0.7244\n",
      "Epoch 37/40\n",
      "94/94 [==============================] - 1s 12ms/step - loss: 12290.1094 - root_mean_squared_error: 110.8608 - r_square: 0.7251\n",
      "Epoch 38/40\n",
      "94/94 [==============================] - 1s 12ms/step - loss: 12281.8096 - root_mean_squared_error: 110.8233 - r_square: 0.7253\n",
      "Epoch 39/40\n",
      "94/94 [==============================] - 1s 11ms/step - loss: 12303.9297 - root_mean_squared_error: 110.9231 - r_square: 0.7248\n",
      "Epoch 40/40\n",
      "94/94 [==============================] - 1s 12ms/step - loss: 12252.3350 - root_mean_squared_error: 110.6903 - r_square: 0.7259\n"
     ]
    }
   ],
   "source": [
    "model = train_model(X, y)"
   ]
  },
  {
   "cell_type": "code",
   "execution_count": 9,
   "metadata": {
    "collapsed": false,
    "jupyter": {
     "outputs_hidden": false
    },
    "pycharm": {
     "name": "#%%\n"
    }
   },
   "outputs": [],
   "source": [
    "final_test = pd.read_csv(os.path.join('data','kaggle', 'final_test.csv'))\n",
    "final_nodes = pd.read_csv(os.path.join('data', 'kaggle', 'nodes_test.csv'))\n",
    "\n",
    "final_test = convert_to_datetime(final_test)"
   ]
  },
  {
   "cell_type": "code",
   "execution_count": 10,
   "metadata": {
    "collapsed": false,
    "jupyter": {
     "outputs_hidden": false
    },
    "pycharm": {
     "name": "#%%\n"
    }
   },
   "outputs": [],
   "source": [
    "data = FeatureExtractor().transform(final_test, final_nodes)\n",
    "X = data[['nodes_delta_time', 'xs', 'set_diff', 'distance_difference']]\n",
    "\n",
    "X = scaler.transform(X)\n",
    "\n",
    "X = pf.transform(X)"
   ]
  },
  {
   "cell_type": "code",
   "execution_count": 11,
   "metadata": {
    "collapsed": false,
    "jupyter": {
     "outputs_hidden": false
    },
    "pycharm": {
     "name": "#%%\n"
    }
   },
   "outputs": [
    {
     "name": "stdout",
     "output_type": "stream",
     "text": [
      "32/32 [==============================] - 2s 2ms/step\n"
     ]
    }
   ],
   "source": [
    "preds = model.predict(X)"
   ]
  },
  {
   "cell_type": "code",
   "execution_count": 12,
   "metadata": {
    "collapsed": false,
    "jupyter": {
     "outputs_hidden": false
    },
    "pycharm": {
     "name": "#%%\n"
    }
   },
   "outputs": [],
   "source": [
    "answer = pd.DataFrame(preds, index=data.index, columns=['Predicted'])"
   ]
  },
  {
   "cell_type": "code",
   "execution_count": 13,
   "metadata": {
    "collapsed": false,
    "jupyter": {
     "outputs_hidden": false
    },
    "pycharm": {
     "name": "#%%\n"
    }
   },
   "outputs": [
    {
     "data": {
      "text/html": [
       "<div>\n",
       "<style scoped>\n",
       "    .dataframe tbody tr th:only-of-type {\n",
       "        vertical-align: middle;\n",
       "    }\n",
       "\n",
       "    .dataframe tbody tr th {\n",
       "        vertical-align: top;\n",
       "    }\n",
       "\n",
       "    .dataframe thead th {\n",
       "        text-align: right;\n",
       "    }\n",
       "</style>\n",
       "<table border=\"1\" class=\"dataframe\">\n",
       "  <thead>\n",
       "    <tr style=\"text-align: right;\">\n",
       "      <th></th>\n",
       "      <th>Predicted</th>\n",
       "    </tr>\n",
       "    <tr>\n",
       "      <th>Id</th>\n",
       "      <th></th>\n",
       "    </tr>\n",
       "  </thead>\n",
       "  <tbody>\n",
       "    <tr>\n",
       "      <th>6198</th>\n",
       "      <td>559.864075</td>\n",
       "    </tr>\n",
       "    <tr>\n",
       "      <th>6417</th>\n",
       "      <td>721.417297</td>\n",
       "    </tr>\n",
       "    <tr>\n",
       "      <th>7054</th>\n",
       "      <td>562.094971</td>\n",
       "    </tr>\n",
       "    <tr>\n",
       "      <th>9628</th>\n",
       "      <td>742.758545</td>\n",
       "    </tr>\n",
       "    <tr>\n",
       "      <th>10283</th>\n",
       "      <td>826.504578</td>\n",
       "    </tr>\n",
       "    <tr>\n",
       "      <th>...</th>\n",
       "      <td>...</td>\n",
       "    </tr>\n",
       "    <tr>\n",
       "      <th>525706</th>\n",
       "      <td>417.739960</td>\n",
       "    </tr>\n",
       "    <tr>\n",
       "      <th>526604</th>\n",
       "      <td>508.036102</td>\n",
       "    </tr>\n",
       "    <tr>\n",
       "      <th>527213</th>\n",
       "      <td>545.068970</td>\n",
       "    </tr>\n",
       "    <tr>\n",
       "      <th>527520</th>\n",
       "      <td>193.761337</td>\n",
       "    </tr>\n",
       "    <tr>\n",
       "      <th>527850</th>\n",
       "      <td>908.894409</td>\n",
       "    </tr>\n",
       "  </tbody>\n",
       "</table>\n",
       "<p>1000 rows × 1 columns</p>\n",
       "</div>"
      ],
      "text/plain": [
       "         Predicted\n",
       "Id                \n",
       "6198    559.864075\n",
       "6417    721.417297\n",
       "7054    562.094971\n",
       "9628    742.758545\n",
       "10283   826.504578\n",
       "...            ...\n",
       "525706  417.739960\n",
       "526604  508.036102\n",
       "527213  545.068970\n",
       "527520  193.761337\n",
       "527850  908.894409\n",
       "\n",
       "[1000 rows x 1 columns]"
      ]
     },
     "execution_count": 13,
     "metadata": {},
     "output_type": "execute_result"
    }
   ],
   "source": [
    "answer"
   ]
  },
  {
   "cell_type": "code",
   "execution_count": 14,
   "metadata": {
    "collapsed": false,
    "jupyter": {
     "outputs_hidden": false
    },
    "pycharm": {
     "name": "#%%\n"
    }
   },
   "outputs": [],
   "source": [
    "answer.to_csv('answer.csv')"
   ]
  },
  {
   "cell_type": "code",
   "execution_count": 15,
   "metadata": {
    "collapsed": false,
    "jupyter": {
     "outputs_hidden": false
    },
    "pycharm": {
     "name": "#%%\n"
    }
   },
   "outputs": [
    {
     "name": "stdout",
     "output_type": "stream",
     "text": [
      "INFO:tensorflow:Assets written to: ram://9e39e33a-d9f0-4406-b8f9-7b496ad82b01/assets\n"
     ]
    }
   ],
   "source": [
    "import pickle\n",
    "\n",
    "pickle.dump(model, open('model.pkl', 'wb'))"
   ]
  }
 ],
 "metadata": {
  "kernelspec": {
   "display_name": "Python 3 (ipykernel)",
   "language": "python",
   "name": "python3"
  },
  "language_info": {
   "codemirror_mode": {
    "name": "ipython",
    "version": 3
   },
   "file_extension": ".py",
   "mimetype": "text/x-python",
   "name": "python",
   "nbconvert_exporter": "python",
   "pygments_lexer": "ipython3",
   "version": "3.9.12"
  }
 },
 "nbformat": 4,
 "nbformat_minor": 4
}
