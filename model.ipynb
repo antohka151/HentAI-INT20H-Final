{
 "cells": [
  {
   "cell_type": "code",
   "execution_count": 1,
   "outputs": [],
   "source": [
    "import os\n",
    "\n",
    "import numpy as np\n",
    "import pandas as pd"
   ],
   "metadata": {
    "collapsed": false,
    "pycharm": {
     "name": "#%%\n"
    }
   }
  },
  {
   "cell_type": "code",
   "execution_count": 2,
   "outputs": [],
   "source": [
    "def import_data_kaggle(path=os.path.join('data'), files=('orders.csv', 'nodes.csv')):\n",
    "    return (pd.read_csv(os.path.join(path, file)) for file in files)\n",
    "\n",
    "raw_orders, raw_nodes = import_data_kaggle()\n",
    "\n",
    "def convert_to_datetime(df):\n",
    "    df['running_time'] = pd.to_datetime(df['running_time'])\n",
    "    if 'completed_time' in df.columns:\n",
    "        df['completed_time'] = pd.to_datetime(df['completed_time'])\n",
    "    return df\n",
    "\n",
    "raw_orders = convert_to_datetime(raw_orders)"
   ],
   "metadata": {
    "collapsed": false,
    "pycharm": {
     "name": "#%%\n"
    }
   }
  },
  {
   "cell_type": "code",
   "execution_count": 3,
   "outputs": [],
   "source": [
    "class FeatureExtractor:\n",
    "    def __init__(self):\n",
    "        pass\n",
    "\n",
    "    def time_to_circle(self, value, max_value):\n",
    "        return np.cos(value / max_value * 2 * np.pi), np.sin(value / max_value * 2 * np.pi)\n",
    "\n",
    "    def datetime_to_xy(self, df):\n",
    "        tmp = df.running_time\n",
    "        tmp = tmp.dt.hour*3600 + tmp.dt.minute*60 + tmp.dt.second\n",
    "\n",
    "        xs, ys = self.time_to_circle(tmp, 86400)\n",
    "        return xs, ys\n",
    "\n",
    "    def transform(self, orders, nodes):\n",
    "        # Getting feature \"nodes_delta_time\"\n",
    "        nodes.speed.fillna(31.277917, inplace=True)\n",
    "        nodes[\"time\"] = (nodes[\"distance\"]*3.6)/nodes['speed']\n",
    "        eta_per_order = nodes[['Id', 'time']].groupby('Id').sum('time').reset_index()\n",
    "        orders['nodes_delta_time'] = orders.merge(eta_per_order).time\n",
    "\n",
    "        # Getting feature \"set_difference\" - it represents number of 'unique nodes', that are used as a start, but not as a finish;\n",
    "        # and that are used as a finish, but not as a start.\n",
    "        set_differences = nodes.groupby('Id').apply(lambda ord: np.concatenate([np.setdiff1d(ord.node_start.unique(), ord.node_finish.unique()),\n",
    "                                                                                np.setdiff1d(ord.node_finish.unique(), ord.node_start.unique())]))\n",
    "        set_differences = set_differences.apply(lambda x: len(x)).rename('set_diff').reset_index()\n",
    "        orders = orders.merge(set_differences, on ='Id')\n",
    "\n",
    "        # Getting the \"distance_difference\" feature. Difference between nodes cumulative distance and route distance.\n",
    "        orders['nodes_distance_km'] = orders.merge(nodes.groupby('Id').sum()['distance'] / 1000, on = 'Id')['distance']\n",
    "        orders['distance_difference'] = orders['route_distance_km'] - orders['nodes_distance_km']\n",
    "\n",
    "        # Transforming \"running time\" into 2 dimensions.\n",
    "        orders['xs'], orders['ys'] = self.datetime_to_xy(orders)\n",
    "        return orders.set_index('Id')\n"
   ],
   "metadata": {
    "collapsed": false,
    "pycharm": {
     "name": "#%%\n"
    }
   }
  },
  {
   "cell_type": "code",
   "execution_count": 4,
   "outputs": [],
   "source": [
    "orders, nodes = raw_orders.copy(), raw_nodes.copy()\n",
    "\n",
    "data = FeatureExtractor().transform(orders, nodes)"
   ],
   "metadata": {
    "collapsed": false,
    "pycharm": {
     "name": "#%%\n"
    }
   }
  },
  {
   "cell_type": "code",
   "execution_count": 5,
   "outputs": [],
   "source": [
    "def get_useful(df, to_get=['nodes_delta_time', 'xs', 'set_diff', 'distance_difference', 'delta_time']):\n",
    "    return df[to_get]\n",
    "\n",
    "data = get_useful(data)"
   ],
   "metadata": {
    "collapsed": false,
    "pycharm": {
     "name": "#%%\n"
    }
   }
  },
  {
   "cell_type": "code",
   "execution_count": 6,
   "outputs": [],
   "source": [
    "from sklearn.preprocessing import StandardScaler, PolynomialFeatures\n",
    "\n",
    "X, y = data.drop(['delta_time'], axis='columns'), data['delta_time']\n",
    "\n",
    "scaler = StandardScaler()\n",
    "X = scaler.fit_transform(X)\n",
    "\n",
    "pf = PolynomialFeatures(degree=2)\n",
    "X = pf.fit_transform(X)"
   ],
   "metadata": {
    "collapsed": false,
    "pycharm": {
     "name": "#%%\n"
    }
   }
  },
  {
   "cell_type": "code",
   "execution_count": 7,
   "outputs": [],
   "source": [
    "import tensorflow as tf\n",
    "import tensorflow_addons as tfa\n",
    "\n",
    "from tensorflow import keras\n",
    "\n",
    "def train_model(X_train, y_train):\n",
    "    model = keras.models.Sequential([\n",
    "        keras.layers.Input(shape=[X_train.shape[1]]),\n",
    "        keras.layers.Dense(128, activation=\"selu\", kernel_initializer=\"lecun_normal\"),\n",
    "        keras.layers.Dense(64, activation=\"selu\", kernel_initializer=\"lecun_normal\"),\n",
    "        keras.layers.Dense(32, activation=\"selu\", kernel_initializer=\"lecun_normal\"),\n",
    "        keras.layers.Dense(16, activation=\"selu\", kernel_initializer=\"lecun_normal\"),\n",
    "        keras.layers.Dense(1)\n",
    "    ])\n",
    "\n",
    "    model.compile(\n",
    "        loss=keras.losses.MeanSquaredError(),\n",
    "        optimizer=\"nadam\",\n",
    "        metrics=[\n",
    "            keras.metrics.RootMeanSquaredError(),\n",
    "            tfa.metrics.RSquare()\n",
    "        ]\n",
    "    )\n",
    "    with tf.device(\"/cpu:0\"):\n",
    "        history = model.fit(\n",
    "            X_train,\n",
    "            y_train,\n",
    "            epochs=40,\n",
    "            verbose=1,\n",
    "            batch_size=64\n",
    "        )\n",
    "\n",
    "    return model"
   ],
   "metadata": {
    "collapsed": false,
    "pycharm": {
     "name": "#%%\n"
    }
   }
  },
  {
   "cell_type": "code",
   "execution_count": 8,
   "outputs": [
    {
     "name": "stdout",
     "output_type": "stream",
     "text": [
      "Epoch 1/40\n",
      "94/94 [==============================] - 1s 1ms/step - loss: 278219.0000 - root_mean_squared_error: 527.4647 - r_square: -5.2231\n",
      "Epoch 2/40\n",
      "94/94 [==============================] - 0s 1ms/step - loss: 45811.1797 - root_mean_squared_error: 214.0355 - r_square: -0.0247\n",
      "Epoch 3/40\n",
      "94/94 [==============================] - 0s 1ms/step - loss: 21749.9434 - root_mean_squared_error: 147.4786 - r_square: 0.5135\n",
      "Epoch 4/40\n",
      "94/94 [==============================] - 0s 1ms/step - loss: 15447.3105 - root_mean_squared_error: 124.2872 - r_square: 0.6545\n",
      "Epoch 5/40\n",
      "94/94 [==============================] - 0s 1ms/step - loss: 13786.7578 - root_mean_squared_error: 117.4170 - r_square: 0.6916\n",
      "Epoch 6/40\n",
      "94/94 [==============================] - 0s 1ms/step - loss: 13209.1748 - root_mean_squared_error: 114.9312 - r_square: 0.7045\n",
      "Epoch 7/40\n",
      "94/94 [==============================] - 0s 1ms/step - loss: 12988.8652 - root_mean_squared_error: 113.9687 - r_square: 0.7095\n",
      "Epoch 8/40\n",
      "94/94 [==============================] - 0s 1ms/step - loss: 12875.5664 - root_mean_squared_error: 113.4706 - r_square: 0.7120\n",
      "Epoch 9/40\n",
      "94/94 [==============================] - 0s 1ms/step - loss: 12783.5146 - root_mean_squared_error: 113.0642 - r_square: 0.7141\n",
      "Epoch 10/40\n",
      "94/94 [==============================] - 0s 1ms/step - loss: 12744.8936 - root_mean_squared_error: 112.8933 - r_square: 0.7149\n",
      "Epoch 11/40\n",
      "94/94 [==============================] - 0s 1ms/step - loss: 12702.4346 - root_mean_squared_error: 112.7051 - r_square: 0.7159\n",
      "Epoch 12/40\n",
      "94/94 [==============================] - 0s 1ms/step - loss: 12670.8584 - root_mean_squared_error: 112.5649 - r_square: 0.7166\n",
      "Epoch 13/40\n",
      "94/94 [==============================] - 0s 1ms/step - loss: 12641.7031 - root_mean_squared_error: 112.4353 - r_square: 0.7172\n",
      "Epoch 14/40\n",
      "94/94 [==============================] - 0s 1ms/step - loss: 12612.3828 - root_mean_squared_error: 112.3049 - r_square: 0.7179\n",
      "Epoch 15/40\n",
      "94/94 [==============================] - 0s 1ms/step - loss: 12588.0508 - root_mean_squared_error: 112.1965 - r_square: 0.7184\n",
      "Epoch 16/40\n",
      "94/94 [==============================] - 0s 1ms/step - loss: 12569.1084 - root_mean_squared_error: 112.1120 - r_square: 0.7189\n",
      "Epoch 17/40\n",
      "94/94 [==============================] - 0s 1ms/step - loss: 12538.4951 - root_mean_squared_error: 111.9754 - r_square: 0.7195\n",
      "Epoch 18/40\n",
      "94/94 [==============================] - 0s 1ms/step - loss: 12552.2383 - root_mean_squared_error: 112.0368 - r_square: 0.7192\n",
      "Epoch 19/40\n",
      "94/94 [==============================] - 0s 1ms/step - loss: 12537.7969 - root_mean_squared_error: 111.9723 - r_square: 0.7196\n",
      "Epoch 20/40\n",
      "94/94 [==============================] - 0s 1ms/step - loss: 12517.3115 - root_mean_squared_error: 111.8808 - r_square: 0.7200\n",
      "Epoch 21/40\n",
      "94/94 [==============================] - 0s 1ms/step - loss: 12506.2227 - root_mean_squared_error: 111.8312 - r_square: 0.7203\n",
      "Epoch 22/40\n",
      "94/94 [==============================] - 0s 1ms/step - loss: 12496.1689 - root_mean_squared_error: 111.7863 - r_square: 0.7205\n",
      "Epoch 23/40\n",
      "94/94 [==============================] - 0s 1ms/step - loss: 12499.4229 - root_mean_squared_error: 111.8008 - r_square: 0.7204\n",
      "Epoch 24/40\n",
      "94/94 [==============================] - 0s 1ms/step - loss: 12493.2441 - root_mean_squared_error: 111.7732 - r_square: 0.7206\n",
      "Epoch 25/40\n",
      "94/94 [==============================] - 0s 1ms/step - loss: 12459.8135 - root_mean_squared_error: 111.6235 - r_square: 0.7213\n",
      "Epoch 26/40\n",
      "94/94 [==============================] - 0s 1ms/step - loss: 12430.4209 - root_mean_squared_error: 111.4918 - r_square: 0.7220\n",
      "Epoch 27/40\n",
      "94/94 [==============================] - 0s 1ms/step - loss: 12450.8877 - root_mean_squared_error: 111.5835 - r_square: 0.7215\n",
      "Epoch 28/40\n",
      "94/94 [==============================] - 0s 1ms/step - loss: 12439.6855 - root_mean_squared_error: 111.5333 - r_square: 0.7218\n",
      "Epoch 29/40\n",
      "94/94 [==============================] - 0s 1ms/step - loss: 12427.2041 - root_mean_squared_error: 111.4774 - r_square: 0.7220\n",
      "Epoch 30/40\n",
      "94/94 [==============================] - 0s 1ms/step - loss: 12420.0576 - root_mean_squared_error: 111.4453 - r_square: 0.7222\n",
      "Epoch 31/40\n",
      "94/94 [==============================] - 0s 1ms/step - loss: 12450.2910 - root_mean_squared_error: 111.5809 - r_square: 0.7215\n",
      "Epoch 32/40\n",
      "94/94 [==============================] - 0s 1ms/step - loss: 12392.9551 - root_mean_squared_error: 111.3236 - r_square: 0.7228\n",
      "Epoch 33/40\n",
      "94/94 [==============================] - 0s 1ms/step - loss: 12388.0996 - root_mean_squared_error: 111.3018 - r_square: 0.7229\n",
      "Epoch 34/40\n",
      "94/94 [==============================] - 0s 1ms/step - loss: 12409.7324 - root_mean_squared_error: 111.3990 - r_square: 0.7224\n",
      "Epoch 35/40\n",
      "94/94 [==============================] - 0s 1ms/step - loss: 12395.2891 - root_mean_squared_error: 111.3341 - r_square: 0.7227\n",
      "Epoch 36/40\n",
      "94/94 [==============================] - 0s 1ms/step - loss: 12387.2930 - root_mean_squared_error: 111.2982 - r_square: 0.7229\n",
      "Epoch 37/40\n",
      "94/94 [==============================] - 0s 1ms/step - loss: 12380.8320 - root_mean_squared_error: 111.2692 - r_square: 0.7231\n",
      "Epoch 38/40\n",
      "94/94 [==============================] - 0s 1ms/step - loss: 12378.0908 - root_mean_squared_error: 111.2569 - r_square: 0.7231\n",
      "Epoch 39/40\n",
      "94/94 [==============================] - 0s 1ms/step - loss: 12374.0400 - root_mean_squared_error: 111.2387 - r_square: 0.7232\n",
      "Epoch 40/40\n",
      "94/94 [==============================] - 0s 1ms/step - loss: 12354.7734 - root_mean_squared_error: 111.1520 - r_square: 0.7237\n"
     ]
    }
   ],
   "source": [
    "model = train_model(X, y)"
   ],
   "metadata": {
    "collapsed": false,
    "pycharm": {
     "name": "#%%\n"
    }
   }
  },
  {
   "cell_type": "code",
   "execution_count": 9,
   "outputs": [],
   "source": [
    "final_test = pd.read_csv(os.path.join('data','kaggle', 'final_test.csv'))\n",
    "final_nodes = pd.read_csv(os.path.join('data', 'kaggle', 'nodes_test.csv'))\n",
    "\n",
    "final_test = convert_to_datetime(final_test)"
   ],
   "metadata": {
    "collapsed": false,
    "pycharm": {
     "name": "#%%\n"
    }
   }
  },
  {
   "cell_type": "code",
   "execution_count": 10,
   "outputs": [],
   "source": [
    "data = FeatureExtractor().transform(final_test, final_nodes)\n",
    "X = data[['nodes_delta_time', 'xs', 'set_diff', 'distance_difference']]\n",
    "\n",
    "X = scaler.fit_transform(X)\n",
    "\n",
    "X = pf.fit_transform(X)"
   ],
   "metadata": {
    "collapsed": false,
    "pycharm": {
     "name": "#%%\n"
    }
   }
  },
  {
   "cell_type": "code",
   "execution_count": 11,
   "outputs": [
    {
     "name": "stdout",
     "output_type": "stream",
     "text": [
      "32/32 [==============================] - 0s 678us/step\n"
     ]
    }
   ],
   "source": [
    "preds = model.predict(X)"
   ],
   "metadata": {
    "collapsed": false,
    "pycharm": {
     "name": "#%%\n"
    }
   }
  },
  {
   "cell_type": "code",
   "execution_count": 12,
   "outputs": [],
   "source": [
    "answer = pd.DataFrame(preds, index=data.index, columns=['Predicted'])"
   ],
   "metadata": {
    "collapsed": false,
    "pycharm": {
     "name": "#%%\n"
    }
   }
  },
  {
   "cell_type": "code",
   "execution_count": 13,
   "outputs": [
    {
     "data": {
      "text/plain": "         Predicted\nId                \n6198    513.628784\n6417    646.690247\n7054    548.731812\n9628    626.482422\n10283   718.146240\n...            ...\n525706  380.601257\n526604  467.086700\n527213  648.464661\n527520  216.305847\n527850  862.057068\n\n[1000 rows x 1 columns]",
      "text/html": "<div>\n<style scoped>\n    .dataframe tbody tr th:only-of-type {\n        vertical-align: middle;\n    }\n\n    .dataframe tbody tr th {\n        vertical-align: top;\n    }\n\n    .dataframe thead th {\n        text-align: right;\n    }\n</style>\n<table border=\"1\" class=\"dataframe\">\n  <thead>\n    <tr style=\"text-align: right;\">\n      <th></th>\n      <th>Predicted</th>\n    </tr>\n    <tr>\n      <th>Id</th>\n      <th></th>\n    </tr>\n  </thead>\n  <tbody>\n    <tr>\n      <th>6198</th>\n      <td>513.628784</td>\n    </tr>\n    <tr>\n      <th>6417</th>\n      <td>646.690247</td>\n    </tr>\n    <tr>\n      <th>7054</th>\n      <td>548.731812</td>\n    </tr>\n    <tr>\n      <th>9628</th>\n      <td>626.482422</td>\n    </tr>\n    <tr>\n      <th>10283</th>\n      <td>718.146240</td>\n    </tr>\n    <tr>\n      <th>...</th>\n      <td>...</td>\n    </tr>\n    <tr>\n      <th>525706</th>\n      <td>380.601257</td>\n    </tr>\n    <tr>\n      <th>526604</th>\n      <td>467.086700</td>\n    </tr>\n    <tr>\n      <th>527213</th>\n      <td>648.464661</td>\n    </tr>\n    <tr>\n      <th>527520</th>\n      <td>216.305847</td>\n    </tr>\n    <tr>\n      <th>527850</th>\n      <td>862.057068</td>\n    </tr>\n  </tbody>\n</table>\n<p>1000 rows × 1 columns</p>\n</div>"
     },
     "execution_count": 13,
     "metadata": {},
     "output_type": "execute_result"
    }
   ],
   "source": [
    "answer"
   ],
   "metadata": {
    "collapsed": false,
    "pycharm": {
     "name": "#%%\n"
    }
   }
  },
  {
   "cell_type": "code",
   "execution_count": 14,
   "outputs": [],
   "source": [
    "answer.to_csv('answer.csv')"
   ],
   "metadata": {
    "collapsed": false,
    "pycharm": {
     "name": "#%%\n"
    }
   }
  },
  {
   "cell_type": "code",
   "execution_count": 15,
   "outputs": [
    {
     "name": "stdout",
     "output_type": "stream",
     "text": [
      "INFO:tensorflow:Assets written to: ram://57f94d1d-8b43-4c73-b3b2-41626ff5e040/assets\n"
     ]
    }
   ],
   "source": [
    "import pickle\n",
    "\n",
    "pickle.dump(model, open('model.pkl', 'wb'))"
   ],
   "metadata": {
    "collapsed": false,
    "pycharm": {
     "name": "#%%\n"
    }
   }
  }
 ],
 "metadata": {
  "kernelspec": {
   "display_name": "Python 3",
   "language": "python",
   "name": "python3"
  },
  "language_info": {
   "codemirror_mode": {
    "name": "ipython",
    "version": 2
   },
   "file_extension": ".py",
   "mimetype": "text/x-python",
   "name": "python",
   "nbconvert_exporter": "python",
   "pygments_lexer": "ipython2",
   "version": "2.7.6"
  }
 },
 "nbformat": 4,
 "nbformat_minor": 0
}